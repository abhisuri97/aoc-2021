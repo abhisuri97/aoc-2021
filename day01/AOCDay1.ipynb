{
 "cells": [
  {
   "cell_type": "code",
   "execution_count": 6,
   "id": "international-grove",
   "metadata": {},
   "outputs": [],
   "source": [
    "# Helpers\n",
    "def process_input(file):\n",
    "    arr = []\n",
    "    with open(file) as f:\n",
    "        for line in f:\n",
    "            val = int(line.rstrip())\n",
    "            arr.append(val)\n",
    "    return arr\n",
    "\n",
    "def inc_counter(arr):\n",
    "    prev = None\n",
    "    inc_count = 0\n",
    "    for a in arr:\n",
    "        if prev and a > prev:\n",
    "            inc_count += 1\n",
    "        prev = a\n",
    "    return inc_count"
   ]
  },
  {
   "cell_type": "code",
   "execution_count": 7,
   "id": "pursuant-struggle",
   "metadata": {},
   "outputs": [
    {
     "data": {
      "text/plain": [
       "1553"
      ]
     },
     "execution_count": 7,
     "metadata": {},
     "output_type": "execute_result"
    }
   ],
   "source": [
    "def day1_pt1(file):\n",
    "    return inc_counter(process_input(file))\n",
    "           \n",
    "day1_pt1('input.txt')"
   ]
  },
  {
   "cell_type": "code",
   "execution_count": 8,
   "id": "virgin-frame",
   "metadata": {},
   "outputs": [
    {
     "data": {
      "text/plain": [
       "1597"
      ]
     },
     "execution_count": 8,
     "metadata": {},
     "output_type": "execute_result"
    }
   ],
   "source": [
    "def day1_pt2(file):\n",
    "    arr = process_input(file)\n",
    "    sums = [sum(arr[idx:idx+3]) for idx,_ in enumerate(arr)]\n",
    "    return inc_counter(sums)\n",
    "\n",
    "\n",
    "day1_pt2('input.txt')"
   ]
  }
 ],
 "metadata": {
  "kernelspec": {
   "display_name": "Python 3",
   "language": "python",
   "name": "python3"
  },
  "language_info": {
   "codemirror_mode": {
    "name": "ipython",
    "version": 3
   },
   "file_extension": ".py",
   "mimetype": "text/x-python",
   "name": "python",
   "nbconvert_exporter": "python",
   "pygments_lexer": "ipython3",
   "version": "3.7.9"
  }
 },
 "nbformat": 4,
 "nbformat_minor": 5
}
