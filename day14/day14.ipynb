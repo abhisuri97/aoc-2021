{
 "cells": [
  {
   "cell_type": "code",
   "execution_count": 1,
   "id": "fleet-jimmy",
   "metadata": {},
   "outputs": [],
   "source": [
    "def read_input(file):\n",
    "    with open(file) as f:\n",
    "        string = ''\n",
    "        repls = {}\n",
    "        for line in f:\n",
    "            l = line.strip()\n",
    "            if len(l) > 0:\n",
    "                if l.find('->') == -1:\n",
    "                    string = l\n",
    "                else:\n",
    "                    p, r = l.split(' -> ')\n",
    "                    repls[p] = r\n",
    "                    \n",
    "    return string, repls\n",
    "            \n",
    "# read_input('input.txt')"
   ]
  },
  {
   "cell_type": "code",
   "execution_count": 2,
   "id": "constant-archives",
   "metadata": {},
   "outputs": [
    {
     "name": "stdout",
     "output_type": "stream",
     "text": [
      "0\n",
      "1\n",
      "2\n",
      "3\n",
      "4\n",
      "5\n",
      "6\n",
      "7\n",
      "8\n",
      "9\n"
     ]
    },
    {
     "data": {
      "text/plain": [
       "(19457, 4285, 1001, 3284)"
      ]
     },
     "execution_count": 2,
     "metadata": {},
     "output_type": "execute_result"
    }
   ],
   "source": [
    "def day14_pt1(file, days):\n",
    "    string, repls = read_input(file)\n",
    "    new_str = string\n",
    "    for i in range(days):\n",
    "        print(i)\n",
    "        temp_str = ''\n",
    "        for idx, j in enumerate(new_str):\n",
    "            if idx > 0:\n",
    "                pair = new_str[idx-1:idx+1]\n",
    "                if pair in repls:\n",
    "                    temp_str += pair[0] + repls[pair] \n",
    "                else:\n",
    "                    temp_str += pair[0]\n",
    "            \n",
    "        new_str = temp_str + new_str[-1]\n",
    "    counter = {}\n",
    "    ma = 0\n",
    "    mi = float('inf')\n",
    "    for i in new_str:\n",
    "        if i not in counter:\n",
    "            counter[i] = 1\n",
    "        else:\n",
    "            counter[i] += 1\n",
    "    for i in counter:\n",
    "        if counter[i] > ma:\n",
    "            ma = counter[i]\n",
    "        if counter[i] < mi:\n",
    "            mi = counter[i]\n",
    "    \n",
    "    return len(new_str), ma, mi, ma-mi\n",
    "day14_pt1('input.txt',10)"
   ]
  },
  {
   "cell_type": "code",
   "execution_count": 12,
   "id": "revised-rubber",
   "metadata": {},
   "outputs": [
    {
     "name": "stdout",
     "output_type": "stream",
     "text": [
      "4302675529689\n"
     ]
    }
   ],
   "source": [
    "def day14_pt2(file, days):\n",
    "    string, repls = read_input(file)\n",
    "    pair_counts = {}\n",
    "    for i in range(len(string)-1):\n",
    "        pair = string[i:i+2]\n",
    "        if not pair in pair_counts:\n",
    "            pair_counts[pair] = 0\n",
    "        pair_counts[pair] += 1\n",
    "        \n",
    "    for step in range(days):\n",
    "        new_counts = {}\n",
    "        for pair in pair_counts:\n",
    "            out = repls[pair]\n",
    "            first = pair[0] + out\n",
    "            second = out + pair[1]\n",
    "\n",
    "            if not first in new_counts:\n",
    "                new_counts[first] = 0\n",
    "            if not second in new_counts:\n",
    "                new_counts[second] = 0\n",
    "            new_counts[first] += pair_counts[pair]\n",
    "            new_counts[second] += pair_counts[pair]\n",
    "        pair_counts = new_counts\n",
    "    \n",
    "    # counter code\n",
    "    \n",
    "    letter_counts = {}\n",
    "    \n",
    "    for p in pair_counts.keys():\n",
    "        x = p[0]\n",
    "        y = p[1]\n",
    "        v = pair_counts[p]\n",
    "        \n",
    "        if not x in letter_counts:\n",
    "            letter_counts[x] = 0\n",
    "        if not y in letter_counts:\n",
    "            letter_counts[y] = 0\n",
    "        letter_counts[x] += v\n",
    "        letter_counts[y] += v\n",
    "        \n",
    "    letter_counts[string[0]] += 1\n",
    "    letter_counts[string[-1]] += 1\n",
    "    \n",
    "    values = letter_counts.values()\n",
    "    print(int((max(values)-min(values))/2))\n",
    "    # return len(new_str), ma, mi, ma-mi\n",
    "day14_pt2('input.txt',40)"
   ]
  },
  {
   "cell_type": "code",
   "execution_count": null,
   "id": "rotary-liabilities",
   "metadata": {},
   "outputs": [],
   "source": []
  }
 ],
 "metadata": {
  "kernelspec": {
   "display_name": "Python 3",
   "language": "python",
   "name": "python3"
  },
  "language_info": {
   "codemirror_mode": {
    "name": "ipython",
    "version": 3
   },
   "file_extension": ".py",
   "mimetype": "text/x-python",
   "name": "python",
   "nbconvert_exporter": "python",
   "pygments_lexer": "ipython3",
   "version": "3.7.9"
  }
 },
 "nbformat": 4,
 "nbformat_minor": 5
}
