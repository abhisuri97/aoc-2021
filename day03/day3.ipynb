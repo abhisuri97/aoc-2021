{
 "cells": [
  {
   "cell_type": "code",
   "execution_count": 1,
   "id": "nuclear-healthcare",
   "metadata": {},
   "outputs": [],
   "source": [
    "def read_input(file):\n",
    "    arr=[]\n",
    "    with open(file) as f:\n",
    "        for line in f:\n",
    "            val = line.rstrip()\n",
    "            val_arr = list(val)\n",
    "            arr.append(val_arr)\n",
    "    return arr"
   ]
  },
  {
   "cell_type": "code",
   "execution_count": 2,
   "id": "mental-argentina",
   "metadata": {},
   "outputs": [
    {
     "data": {
      "text/plain": [
       "852500"
      ]
     },
     "execution_count": 2,
     "metadata": {},
     "output_type": "execute_result"
    }
   ],
   "source": [
    "def bit_pos_counter(arr, idx):\n",
    "    zeroct = 0\n",
    "    onect = 0\n",
    "    for a in arr:\n",
    "        if a[idx] == '0':\n",
    "            zeroct += 1\n",
    "        if a[idx] == '1':\n",
    "            onect += 1\n",
    "    return (zeroct, onect)\n",
    "\n",
    "def day3_pt1(file):\n",
    "    arr = read_input(file)\n",
    "    gamma = ''\n",
    "    eps = ''\n",
    "    \n",
    "    for idx in range(len(arr[0])):\n",
    "        zeroct, onect = bit_pos_counter(arr, idx)\n",
    "        if zeroct > onect:\n",
    "            gamma += '0'\n",
    "            eps += '1'\n",
    "        else:\n",
    "            gamma += '1'\n",
    "            eps += '0'\n",
    "    gamma_n = int(gamma,2)\n",
    "    eps_n = int(eps,2)\n",
    "    return gamma_n * eps_n\n",
    "\n",
    "day3_pt1('input.txt')"
   ]
  },
  {
   "cell_type": "code",
   "execution_count": 4,
   "id": "violent-wrapping",
   "metadata": {},
   "outputs": [
    {
     "data": {
      "text/plain": [
       "1007985"
      ]
     },
     "execution_count": 4,
     "metadata": {},
     "output_type": "execute_result"
    }
   ],
   "source": [
    "def filt_list(arr, val, idx):\n",
    "    return list(filter(lambda x: x[idx] == val, arr))\n",
    "\n",
    "def get_rating(arr, ltv, gtv):\n",
    "    idx = 0\n",
    "    while len(arr) > 1:\n",
    "        z, o = bit_pos_counter(arr, idx)\n",
    "        if z > o:\n",
    "            arr = filt_list(arr, ltv, idx)\n",
    "        if o >= z:\n",
    "            arr = filt_list(arr, gtv, idx)\n",
    "        idx += 1\n",
    "    return arr[0]\n",
    "\n",
    "def day3_pt2(file):\n",
    "    arr = read_input(file)\n",
    "    o2_rating = get_rating(arr.copy(), '0', '1')\n",
    "    co2_rating = get_rating(arr.copy(), '1', '0')\n",
    "    return int(''.join(o2_rating),2) * int(''.join(co2_rating),2)\n",
    "    \n",
    "\n",
    "day3_pt2('input.txt')"
   ]
  },
  {
   "cell_type": "code",
   "execution_count": null,
   "id": "instrumental-claim",
   "metadata": {},
   "outputs": [],
   "source": []
  }
 ],
 "metadata": {
  "kernelspec": {
   "display_name": "Python 3",
   "language": "python",
   "name": "python3"
  },
  "language_info": {
   "codemirror_mode": {
    "name": "ipython",
    "version": 3
   },
   "file_extension": ".py",
   "mimetype": "text/x-python",
   "name": "python",
   "nbconvert_exporter": "python",
   "pygments_lexer": "ipython3",
   "version": "3.7.9"
  }
 },
 "nbformat": 4,
 "nbformat_minor": 5
}
