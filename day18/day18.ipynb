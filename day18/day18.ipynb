{
 "cells": [
  {
   "cell_type": "code",
   "execution_count": 11,
   "id": "incorrect-cotton",
   "metadata": {},
   "outputs": [],
   "source": [
    "from functools import reduce\n",
    "from itertools import permutations\n",
    "\n",
    "def read_input(filename):\n",
    "    with open(filename) as f:\n",
    "        return f.readlines()\n",
    "\n",
    "\n",
    "def gen_flatlist(puzzle):\n",
    "    flatlist = []\n",
    "    for line in puzzle:\n",
    "        flatline, depth = [], 0\n",
    "        for c in line:\n",
    "            if c == '[':       depth += 1\n",
    "            elif c == ']':     depth -= 1\n",
    "            elif c.isdigit():  flatline.append([int(c), depth])\n",
    "        flatlist.append(flatline)\n",
    "    return flatlist\n",
    "\n",
    "\n",
    "def explode(x):\n",
    "    for i, ((num1, depth1), (num2, depth2)) in enumerate(zip(x, x[1:])):\n",
    "        if depth1 < 5 or depth1 != depth2: continue\n",
    "        if i > 0:          x[i-1][0] += num1\n",
    "        if i < len(x)-2:   x[i+2][0] += num2\n",
    "        return True, x[:i] + [[0, depth1-1]] + x[i+2:] \n",
    "    return False, x\n",
    "\n",
    "\n",
    "def split(x):\n",
    "    for i, (num, depth) in enumerate(x):\n",
    "        if num < 10:  continue\n",
    "        down = num // 2\n",
    "        up = num - down\n",
    "        return True, x[:i] + [[down, depth+1],[up, depth+1]] + x[i+1:]\n",
    "    return False, x\n",
    "\n",
    "\n",
    "def add(a, b):\n",
    "    x = [[num, depth+1] for num,depth in a + b]\n",
    "    while True:\n",
    "        change, x = explode(x)\n",
    "        if change: continue\n",
    "        change,x = split(x)\n",
    "        if not change: break\n",
    "    return x\n",
    "\n",
    "\n",
    "def magnitude(x):\n",
    "    while len(x) > 1:\n",
    "        for i, ((num1, depth1), (num2, depth2)) in enumerate(zip(x, x[1:])):\n",
    "            if depth1 != depth2: continue\n",
    "            val = num1 * 3 + num2 * 2\n",
    "            x = x[:i]+[[val, depth1-1]]+x[i+2:]\n",
    "            break\n",
    "    return x[0][0]"
   ]
  },
  {
   "cell_type": "code",
   "execution_count": 12,
   "id": "minus-saturn",
   "metadata": {},
   "outputs": [
    {
     "data": {
      "text/plain": [
       "3699"
      ]
     },
     "execution_count": 12,
     "metadata": {},
     "output_type": "execute_result"
    }
   ],
   "source": [
    "def day18_pt1(file):\n",
    "    puzzle = read_input(file)\n",
    "    flatlist = gen_flatlist(puzzle)\n",
    "    return magnitude(reduce(add, flatlist))\n",
    "    \n",
    "\n",
    "day18_pt1('input.txt')"
   ]
  },
  {
   "cell_type": "code",
   "execution_count": 13,
   "id": "dependent-provider",
   "metadata": {},
   "outputs": [
    {
     "data": {
      "text/plain": [
       "4735"
      ]
     },
     "execution_count": 13,
     "metadata": {},
     "output_type": "execute_result"
    }
   ],
   "source": [
    "def day18_pt2(file):\n",
    "    puzzle = read_input(file)\n",
    "    flatlist = gen_flatlist(puzzle)\n",
    "    return max(magnitude(add(a, b)) for a, b in permutations(flatlist, 2))\n",
    "\n",
    "day18_pt2('input.txt')"
   ]
  },
  {
   "cell_type": "code",
   "execution_count": null,
   "id": "julian-enterprise",
   "metadata": {},
   "outputs": [],
   "source": []
  }
 ],
 "metadata": {
  "kernelspec": {
   "display_name": "Python 3",
   "language": "python",
   "name": "python3"
  },
  "language_info": {
   "codemirror_mode": {
    "name": "ipython",
    "version": 3
   },
   "file_extension": ".py",
   "mimetype": "text/x-python",
   "name": "python",
   "nbconvert_exporter": "python",
   "pygments_lexer": "ipython3",
   "version": "3.7.9"
  }
 },
 "nbformat": 4,
 "nbformat_minor": 5
}
