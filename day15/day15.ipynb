{
 "cells": [
  {
   "cell_type": "code",
   "execution_count": 74,
   "id": "concrete-seafood",
   "metadata": {},
   "outputs": [],
   "source": [
    "def make_graph(arr):\n",
    "    graph = {}\n",
    "    for idy, y in enumerate(arr):\n",
    "        for idx, x in enumerate(y):\n",
    "            dirs = [(-1,0), (1,0), (0,1), (0,-1)]\n",
    "            neighbors = []\n",
    "            for d in dirs:\n",
    "                if idy+d[0] >= 0 and idy+d[0] < len(arr) and \\\n",
    "                    idx + d[1] >= 0 and idx + d[1] < len(y):\n",
    "                    yc = idy+d[0]\n",
    "                    xc = idx+d[1]\n",
    "                    v = arr[yc][xc]\n",
    "                    neighbors.append((v, (yc, xc)))\n",
    "            graph[(idy, idx)] = neighbors\n",
    "    return graph"
   ]
  },
  {
   "cell_type": "code",
   "execution_count": 77,
   "id": "developed-workplace",
   "metadata": {},
   "outputs": [
    {
     "data": {
      "text/plain": [
       "487"
      ]
     },
     "execution_count": 77,
     "metadata": {},
     "output_type": "execute_result"
    }
   ],
   "source": [
    "from heapq import *\n",
    "\n",
    "def dijkstra(arr,graph):\n",
    "    ym, xm = len(arr)-1, len(arr[len(arr)-1])-1\n",
    "    q, seen, mins = [(0, (0,0), ())], set(), {(0,0):0}\n",
    "    while q:\n",
    "        (cost,v1,path) = heappop(q)\n",
    "        if v1 not in seen:\n",
    "            seen.add(v1)\n",
    "            path = (v1, path)\n",
    "            if v1 == (ym,xm):\n",
    "                return cost\n",
    "            for c, v2 in graph.get(v1, ()):\n",
    "                if v2 in seen:\n",
    "                    continue\n",
    "                prev = mins.get(v2, None)\n",
    "                next = cost + c\n",
    "                if prev is None or next < prev:\n",
    "                    mins[v2] = next\n",
    "                    heappush(q, (next, v2, path))\n",
    "    return 'you shouldn\\'t be here'\n",
    "\n",
    "def read_input_pt1(file):\n",
    "    with open(file) as f:\n",
    "        arr = []\n",
    "        for line in f:\n",
    "            arr.append([int(x) for x in list(line.rstrip())])\n",
    "    graph = make_graph(arr)\n",
    "    return arr, graph\n",
    "\n",
    "def day15_pt1(file):\n",
    "    arr, graph = read_input_pt1(file)\n",
    "    return dijkstra(arr,graph)\n",
    "    \n",
    "day15_pt1('input.txt')"
   ]
  },
  {
   "cell_type": "code",
   "execution_count": 80,
   "id": "vulnerable-pastor",
   "metadata": {},
   "outputs": [
    {
     "data": {
      "text/plain": [
       "2821"
      ]
     },
     "execution_count": 80,
     "metadata": {},
     "output_type": "execute_result"
    }
   ],
   "source": [
    "def wrap(x):\n",
    "    return ((x-1)%9)+1\n",
    "\n",
    "def read_input_pt2(file):\n",
    "    with open(file) as f:\n",
    "        arr = []\n",
    "        for line in f:\n",
    "            arr.append([int(x) for x in list(line.rstrip())])\n",
    "        width = len(arr[0])\n",
    "        height = len(arr)\n",
    "        arr = [[\n",
    "            wrap(arr[y%height][x%width]+(x//width)+(y//height)) for x in range(width*5)] \n",
    "               for y in range(height*5)]\n",
    "    graph = make_graph(arr)\n",
    "    return arr, graph\n",
    "\n",
    "def day15_pt2(file):\n",
    "    arr, graph = read_input_pt2(file)\n",
    "    return dijkstra(arr, graph)\n",
    "\n",
    "day15_pt2('input.txt')"
   ]
  },
  {
   "cell_type": "code",
   "execution_count": null,
   "id": "unlikely-idaho",
   "metadata": {},
   "outputs": [],
   "source": []
  }
 ],
 "metadata": {
  "kernelspec": {
   "display_name": "Python 3",
   "language": "python",
   "name": "python3"
  },
  "language_info": {
   "codemirror_mode": {
    "name": "ipython",
    "version": 3
   },
   "file_extension": ".py",
   "mimetype": "text/x-python",
   "name": "python",
   "nbconvert_exporter": "python",
   "pygments_lexer": "ipython3",
   "version": "3.7.9"
  }
 },
 "nbformat": 4,
 "nbformat_minor": 5
}
