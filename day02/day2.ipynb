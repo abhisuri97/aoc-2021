{
 "cells": [
  {
   "cell_type": "code",
   "execution_count": 7,
   "id": "embedded-kidney",
   "metadata": {},
   "outputs": [],
   "source": [
    "def process_input(file):\n",
    "    directions = []\n",
    "    with open(file) as f:\n",
    "        for line in f:\n",
    "            d, v = line.rstrip().split(' ')\n",
    "            directions.append((d,int(v)))\n",
    "    return directions"
   ]
  },
  {
   "cell_type": "code",
   "execution_count": 10,
   "id": "indian-companion",
   "metadata": {},
   "outputs": [
    {
     "data": {
      "text/plain": [
       "1990000"
      ]
     },
     "execution_count": 10,
     "metadata": {},
     "output_type": "execute_result"
    }
   ],
   "source": [
    "def day2_pt1(file):\n",
    "    dirs = process_input(file)\n",
    "    horiz = 0\n",
    "    depth = 0\n",
    "    for d in dirs:\n",
    "        if d[0] == 'forward':\n",
    "            horiz += d[1]\n",
    "        if d[0] == 'down':\n",
    "            depth += d[1]\n",
    "        if d[0] == 'up':\n",
    "            depth -= d[1]\n",
    "    return horiz * depth\n",
    "\n",
    "day2_pt1('input.txt')"
   ]
  },
  {
   "cell_type": "code",
   "execution_count": 14,
   "id": "respective-currency",
   "metadata": {},
   "outputs": [
    {
     "data": {
      "text/plain": [
       "1975421260"
      ]
     },
     "execution_count": 14,
     "metadata": {},
     "output_type": "execute_result"
    }
   ],
   "source": [
    "def day2_pt2(file):\n",
    "    dirs = process_input(file)\n",
    "    horiz = 0\n",
    "    depth = 0\n",
    "    aim = 0\n",
    "    for d in dirs:\n",
    "        if d[0] == 'forward':\n",
    "            horiz += d[1]\n",
    "            depth += (d[1] * aim)\n",
    "        if d[0] == 'down':\n",
    "            aim += d[1]\n",
    "        if d[0] == 'up':\n",
    "            aim -= d[1]\n",
    "    \n",
    "    return horiz * depth\n",
    "\n",
    "day2_pt2('input.txt')"
   ]
  },
  {
   "cell_type": "code",
   "execution_count": null,
   "id": "dying-filling",
   "metadata": {},
   "outputs": [],
   "source": []
  }
 ],
 "metadata": {
  "kernelspec": {
   "display_name": "Python 3",
   "language": "python",
   "name": "python3"
  },
  "language_info": {
   "codemirror_mode": {
    "name": "ipython",
    "version": 3
   },
   "file_extension": ".py",
   "mimetype": "text/x-python",
   "name": "python",
   "nbconvert_exporter": "python",
   "pygments_lexer": "ipython3",
   "version": "3.7.9"
  }
 },
 "nbformat": 4,
 "nbformat_minor": 5
}
