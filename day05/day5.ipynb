{
 "cells": [
  {
   "cell_type": "code",
   "execution_count": 93,
   "id": "willing-currency",
   "metadata": {},
   "outputs": [],
   "source": [
    "class Grid:\n",
    "    def __init__(self, lines, xdim, ydim, diag=False):\n",
    "        self.lines = lines\n",
    "        self.grid = [[0 for _ in range(xdim+1)] for _ in range(ydim+1)]\n",
    "        self.int_count = 0\n",
    "\n",
    "        self.add_lines_no_diag(diag)\n",
    "        \n",
    "    def add_lines_no_diag(self, diag=False):\n",
    "        for line in self.lines:\n",
    "            if (line.start[1] == line.end[1]):\n",
    "                y = line.start[1]\n",
    "                start_x = min(line.start[0], line.end[0])\n",
    "                end_x = max(line.start[0], line.end[0])\n",
    "                for x in range(len(self.grid[y])):\n",
    "                    if (start_x <= x <= end_x):\n",
    "                        self.grid[y][x] += 1\n",
    "                        if self.grid[y][x] == 2:\n",
    "                            self.int_count += 1\n",
    "\n",
    "            elif (line.start[0] == line.end[0]):\n",
    "                x = line.start[0]\n",
    "                start_y = min(line.start[1], line.end[1])\n",
    "                end_y = max(line.start[1], line.end[1])\n",
    "                for y in range(len(self.grid)):\n",
    "                    if start_y <= y <= end_y:\n",
    "                        self.grid[y][x] += 1\n",
    "                        if self.grid[y][x] == 2:\n",
    "                            self.int_count += 1\n",
    "            else:\n",
    "                if diag == True:\n",
    "                    # arrange in top down\n",
    "                    startpt = line.start if line.start[0] < line.end[0] else line.end\n",
    "                    endpt = line.end if line.end[0] > line.start[0] else line.start\n",
    "                    slope = 1 if startpt[1] < endpt[1] else -1\n",
    "                    curr_y = startpt[1]\n",
    "                    for x in range(startpt[0], endpt[0]+1):\n",
    "                        self.grid[curr_y][x] += 1\n",
    "                        if self.grid[curr_y][x] == 2:\n",
    "                            self.int_count += 1\n",
    "                        curr_y += (slope*1)\n",
    "                else:\n",
    "                    continue\n",
    "        return\n",
    "    \n",
    "    def __repr__(self):\n",
    "        strr = ''\n",
    "        for x in self.grid:\n",
    "            strr += ''.join([str(v) for v in x])\n",
    "            strr += '\\n'\n",
    "        return strr\n",
    "    \n",
    "    def get_int_count(self):\n",
    "        return self.int_count\n",
    "    \n",
    "class Line:\n",
    "    def __init__(self, start, end):\n",
    "        self.start = start\n",
    "        self.end = end\n",
    "    def __repr__(self):\n",
    "        return f\"Start: ({self.start[0]},{self.start[1]});\" +\\\n",
    "        f\" End: ({self.end[0]},{self.end[1]})\"\n",
    "\n",
    "def read_input(file):\n",
    "    lines = []\n",
    "    grid_xmax = 0\n",
    "    grid_ymax = 0\n",
    "    with open(file) as f:\n",
    "        for line in f:\n",
    "            l = line.rstrip()\n",
    "            s,e = l.split(' -> ')\n",
    "            sx, sy = [int(x) for x in s.split(',')]\n",
    "            ex, ey = [int(x) for x in e.split(',')]\n",
    "            grid_xmax = grid_xmax if max(sx,ex) <= grid_xmax else max(sx,ex)\n",
    "            grid_ymax = grid_ymax if max(sy,ey) <= grid_ymax else max(sy,ey)\n",
    "            lines.append(Line((sx,sy), (ex,ey)))\n",
    "    return lines, grid_xmax, grid_ymax"
   ]
  },
  {
   "cell_type": "code",
   "execution_count": 97,
   "id": "isolated-preference",
   "metadata": {},
   "outputs": [
    {
     "data": {
      "text/plain": [
       "8060"
      ]
     },
     "execution_count": 97,
     "metadata": {},
     "output_type": "execute_result"
    }
   ],
   "source": [
    "def day5_pt1(file):\n",
    "    lines, xdim, ydim = read_input(file)\n",
    "    g = Grid(lines, xdim, ydim)\n",
    "    return g.get_int_count()\n",
    "day5_pt1('input.txt')"
   ]
  },
  {
   "cell_type": "code",
   "execution_count": 98,
   "id": "convinced-blink",
   "metadata": {},
   "outputs": [
    {
     "data": {
      "text/plain": [
       "21577"
      ]
     },
     "execution_count": 98,
     "metadata": {},
     "output_type": "execute_result"
    }
   ],
   "source": [
    "def day5_pt2(file):\n",
    "    lines, xdim, ydim = read_input(file)\n",
    "    g = Grid(lines, xdim, ydim, diag=True)\n",
    "    return g.get_int_count()\n",
    "\n",
    "day5_pt2('input.txt')"
   ]
  },
  {
   "cell_type": "code",
   "execution_count": null,
   "id": "through-moldova",
   "metadata": {},
   "outputs": [],
   "source": []
  }
 ],
 "metadata": {
  "kernelspec": {
   "display_name": "Python 3",
   "language": "python",
   "name": "python3"
  },
  "language_info": {
   "codemirror_mode": {
    "name": "ipython",
    "version": 3
   },
   "file_extension": ".py",
   "mimetype": "text/x-python",
   "name": "python",
   "nbconvert_exporter": "python",
   "pygments_lexer": "ipython3",
   "version": "3.7.9"
  }
 },
 "nbformat": 4,
 "nbformat_minor": 5
}
