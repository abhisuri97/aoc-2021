{
 "cells": [
  {
   "cell_type": "code",
   "execution_count": 1,
   "id": "senior-frederick",
   "metadata": {},
   "outputs": [],
   "source": [
    "def read_input(file):\n",
    "    arr = []\n",
    "    with open(file) as f:\n",
    "        for line in f:\n",
    "            arr.append([int(x) for x in list(line.rstrip())])\n",
    "    return arr\n",
    "\n",
    "# read_input('input.txt')"
   ]
  },
  {
   "cell_type": "code",
   "execution_count": 2,
   "id": "filled-pollution",
   "metadata": {},
   "outputs": [
    {
     "data": {
      "text/plain": [
       "1747"
      ]
     },
     "execution_count": 2,
     "metadata": {},
     "output_type": "execute_result"
    }
   ],
   "source": [
    "def flash_subr(arr):\n",
    "    flash_step = 0\n",
    "    flash_locs = []\n",
    "    just_flashed = set()\n",
    "    for y,a in enumerate(arr):\n",
    "        for x,v in enumerate(a):\n",
    "            arr[y][x] += 1\n",
    "            if arr[y][x] == 10: \n",
    "                flash_locs.append((y,x))\n",
    "                just_flashed.add((y,x))\n",
    "\n",
    "    while len(flash_locs) > 0:\n",
    "        y,x = flash_locs.pop(0)\n",
    "        flash_step += 1\n",
    "        arr[y][x] = 0\n",
    "        pos = [(-1,-1), (-1,0), (-1,1), \n",
    "               (0,-1), (0, 1),\n",
    "               (1, -1), (1, 0), (1,1)\n",
    "              ]\n",
    "        for p in pos:\n",
    "            new_x = x + p[1]\n",
    "            new_y = y + p[0]\n",
    "            if 0 <= new_x < len(arr[y]) and \\\n",
    "               0 <= new_y < len(arr) and \\\n",
    "               (new_y, new_x) not in just_flashed:\n",
    "                arr[new_y][new_x] += 1\n",
    "                if arr[new_y][new_x] == 10:\n",
    "                    flash_locs.append((new_y, new_x))\n",
    "                    just_flashed.add((new_y,new_x))\n",
    "    return flash_step\n",
    "\n",
    "def day11_pt1(file):\n",
    "    arr = read_input(file)\n",
    "    flash_sum = 0\n",
    "    for _ in range(100):\n",
    "        flash_step_ct = flash_subr(arr)\n",
    "        flash_sum += flash_step_ct\n",
    "    return flash_sum\n",
    "        \n",
    "day11_pt1('input.txt')"
   ]
  },
  {
   "cell_type": "code",
   "execution_count": 7,
   "id": "challenging-accident",
   "metadata": {},
   "outputs": [
    {
     "data": {
      "text/plain": [
       "505"
      ]
     },
     "execution_count": 7,
     "metadata": {},
     "output_type": "execute_result"
    }
   ],
   "source": [
    "def day11_pt2(file):\n",
    "    arr = read_input(file)\n",
    "    tgt = len(arr) * len(arr[0])\n",
    "    ct = 1\n",
    "    while flash_subr(arr) != 100:\n",
    "        ct += 1\n",
    "    return ct\n",
    "\n",
    "day11_pt2('input.txt')"
   ]
  },
  {
   "cell_type": "code",
   "execution_count": null,
   "id": "basic-darkness",
   "metadata": {},
   "outputs": [],
   "source": []
  }
 ],
 "metadata": {
  "kernelspec": {
   "display_name": "Python 3",
   "language": "python",
   "name": "python3"
  },
  "language_info": {
   "codemirror_mode": {
    "name": "ipython",
    "version": 3
   },
   "file_extension": ".py",
   "mimetype": "text/x-python",
   "name": "python",
   "nbconvert_exporter": "python",
   "pygments_lexer": "ipython3",
   "version": "3.7.9"
  }
 },
 "nbformat": 4,
 "nbformat_minor": 5
}
