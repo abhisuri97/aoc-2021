{
 "cells": [
  {
   "cell_type": "code",
   "execution_count": 2,
   "id": "subject-breathing",
   "metadata": {},
   "outputs": [],
   "source": [
    "def read_input(file):\n",
    "    pts = []\n",
    "    folds = []\n",
    "    with open(file) as f:\n",
    "        for line in f:\n",
    "            if line.find('fold') == -1:\n",
    "                if len(line.rstrip()) > 0:\n",
    "                    x, y = [int(x) for x in line.rstrip().split(',')]\n",
    "                    pts.append((y,x))\n",
    "            else:\n",
    "                l = line.rstrip().split(' ')\n",
    "                foldline = l[2].split('=')\n",
    "                folds.append((foldline[0], int(foldline[1])))\n",
    "        return pts, folds\n",
    "# read_input('input.txt')"
   ]
  },
  {
   "cell_type": "code",
   "execution_count": 3,
   "id": "received-spelling",
   "metadata": {},
   "outputs": [],
   "source": [
    "def fold(pts, instruction):\n",
    "    axis = instruction[1]\n",
    "    newpts = set()\n",
    "    for p in pts:\n",
    "        if instruction[0] == 'y':\n",
    "            if p[0] > axis:\n",
    "                newpts.add((axis-(p[0]-axis), p[1]))\n",
    "            else:\n",
    "                newpts.add((p[0], p[1]))\n",
    "        if instruction[0] == 'x':\n",
    "            if p[1] > axis:\n",
    "                newpts.add((p[0], axis-(p[1] - axis)))\n",
    "            else:\n",
    "                newpts.add((p[0], p[1]))\n",
    "    return newpts"
   ]
  },
  {
   "cell_type": "code",
   "execution_count": 4,
   "id": "greenhouse-drama",
   "metadata": {},
   "outputs": [
    {
     "data": {
      "text/plain": [
       "795"
      ]
     },
     "execution_count": 4,
     "metadata": {},
     "output_type": "execute_result"
    }
   ],
   "source": [
    "def day13_pt1(file):\n",
    "    pts, folds = read_input(file)\n",
    "    instruction = folds.pop(0)\n",
    "    pts = fold(pts, instruction)\n",
    "    return len(pts)\n",
    "\n",
    "day13_pt1('input.txt')"
   ]
  },
  {
   "cell_type": "code",
   "execution_count": 5,
   "id": "attended-wireless",
   "metadata": {},
   "outputs": [
    {
     "name": "stdout",
     "output_type": "stream",
     "text": [
      ".##..####...##.#..#.#....#..#..##....##..\n",
      "#..#.#.......#.#.#..#....#..#.#..#....#..\n",
      "#....###.....#.##...#....#..#.#.......#..\n",
      "#....#.......#.#.#..#....#..#.#.##....#..\n",
      "#..#.#....#..#.#.#..#....#..#.#..#.#..#..\n",
      ".##..####..##..#..#.####..##...###..##...\n",
      ".........................................\n"
     ]
    }
   ],
   "source": [
    "def day13_pt2(file):\n",
    "    pts, folds = read_input(file)\n",
    "    max_x = float('inf')\n",
    "    max_y = float('inf')\n",
    "    while len(folds) > 0:\n",
    "        instruction = folds.pop(0)\n",
    "        pts = fold(pts, instruction)\n",
    "        if instruction[0] == 'y':\n",
    "            max_y = instruction[1]\n",
    "        else:\n",
    "            max_x = instruction[1]\n",
    "    arr = [['.' for x in range(max_x+1)] for _ in range(max_y + 1)]\n",
    "    for p in pts:\n",
    "        arr[p[0]][p[1]] = '#'\n",
    "    for a in arr:\n",
    "        print(''.join(a))\n",
    "\n",
    "day13_pt2('input.txt') # CEJKLUGJ"
   ]
  },
  {
   "cell_type": "code",
   "execution_count": null,
   "id": "young-studio",
   "metadata": {},
   "outputs": [],
   "source": []
  }
 ],
 "metadata": {
  "kernelspec": {
   "display_name": "Python 3",
   "language": "python",
   "name": "python3"
  },
  "language_info": {
   "codemirror_mode": {
    "name": "ipython",
    "version": 3
   },
   "file_extension": ".py",
   "mimetype": "text/x-python",
   "name": "python",
   "nbconvert_exporter": "python",
   "pygments_lexer": "ipython3",
   "version": "3.7.9"
  }
 },
 "nbformat": 4,
 "nbformat_minor": 5
}
