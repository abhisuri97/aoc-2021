{
 "cells": [
  {
   "cell_type": "code",
   "execution_count": 3,
   "id": "stock-darkness",
   "metadata": {},
   "outputs": [],
   "source": [
    "def read_input(file):\n",
    "    arr = []\n",
    "    max_x = 0\n",
    "    max_y = 0\n",
    "    pts = []\n",
    "    folds = []\n",
    "    with open(file) as f:\n",
    "        for line in f:\n",
    "            if line.find('fold') == -1:\n",
    "                if len(line.rstrip()) > 0:\n",
    "                    x, y = [int(x) for x in line.rstrip().split(',')]\n",
    "                    pts.append((y,x))\n",
    "                    if x > max_x:\n",
    "                        max_x = x\n",
    "                    if y > max_y:\n",
    "                        max_y = y\n",
    "            else:\n",
    "                l = line.rstrip().split(' ')\n",
    "                if l[2].find('y') > -1:\n",
    "                    folds.append(('y', int(l[2].replace('y=', ''))))\n",
    "                if l[2].find('x') > -1:\n",
    "                    folds.append(('x', int(l[2].replace('x=', ''))))\n",
    "                    \n",
    "        arr = [['.' for x in range(max_x+1)] for _ in range(max_y+1)]\n",
    "        for p in pts:\n",
    "            arr[p[0]][p[1]] = '#'\n",
    "        return arr, folds\n",
    "# read_input('input.txt')"
   ]
  },
  {
   "cell_type": "code",
   "execution_count": 4,
   "id": "hidden-evening",
   "metadata": {},
   "outputs": [],
   "source": [
    "def fold(arr, instruction):\n",
    "    axis = instruction[1]\n",
    "    for idy, a in enumerate(arr):\n",
    "        for idx, v in enumerate(a):\n",
    "            if instruction[0] == 'y':\n",
    "                if idy > axis:\n",
    "                    if arr[idy][idx] == '#':\n",
    "                        arr[axis-(idy-axis)][idx] = '#'\n",
    "                        arr[idy][idx] = '.'\n",
    "            if instruction[0] == 'x':\n",
    "                if idx > axis:\n",
    "                    if arr[idy][idx] == '#':\n",
    "                        arr[idy][axis-(idx-axis)] = '#'\n",
    "                        arr[idy][idx] = '.'\n",
    "    return arr"
   ]
  },
  {
   "cell_type": "code",
   "execution_count": 5,
   "id": "signed-contract",
   "metadata": {},
   "outputs": [
    {
     "data": {
      "text/plain": [
       "795"
      ]
     },
     "execution_count": 5,
     "metadata": {},
     "output_type": "execute_result"
    }
   ],
   "source": [
    "def day13_pt1(file):\n",
    "    arr, folds = read_input(file)\n",
    "    instruction = folds.pop(0)\n",
    "    arr = fold(arr, instruction)\n",
    "    counter = 0\n",
    "    for idy, a in enumerate(arr):\n",
    "        for idx, v in enumerate(a):\n",
    "            if v == '#':\n",
    "                counter += 1\n",
    "\n",
    "    return counter\n",
    "\n",
    "day13_pt1('input.txt')"
   ]
  },
  {
   "cell_type": "code",
   "execution_count": 6,
   "id": "romance-probe",
   "metadata": {},
   "outputs": [
    {
     "name": "stdout",
     "output_type": "stream",
     "text": [
      ".##..####...##.#..#.#....#..#..##....##.\n",
      "#..#.#.......#.#.#..#....#..#.#..#....#.\n",
      "#....###.....#.##...#....#..#.#.......#.\n",
      "#....#.......#.#.#..#....#..#.#.##....#.\n",
      "#..#.#....#..#.#.#..#....#..#.#..#.#..#.\n",
      ".##..####..##..#..#.####..##...###..##..\n"
     ]
    }
   ],
   "source": [
    "def day13_pt2(file):\n",
    "    arr, folds = read_input(file)\n",
    "    max_x = len(arr[0])\n",
    "    max_y = len(arr)\n",
    "    while len(folds) > 0:\n",
    "        instruction = folds.pop(0)\n",
    "        arr = fold(arr, instruction)\n",
    "        if instruction[0] == 'y':\n",
    "            max_y = instruction[1]\n",
    "        else:\n",
    "            max_x = instruction[1]\n",
    "    for a in arr[0:max_y]:\n",
    "        print(''.join(a[0:max_x]))\n",
    "    \n",
    "day13_pt2('input.txt')"
   ]
  },
  {
   "cell_type": "code",
   "execution_count": null,
   "id": "directed-commonwealth",
   "metadata": {},
   "outputs": [],
   "source": []
  }
 ],
 "metadata": {
  "kernelspec": {
   "display_name": "Python 3",
   "language": "python",
   "name": "python3"
  },
  "language_info": {
   "codemirror_mode": {
    "name": "ipython",
    "version": 3
   },
   "file_extension": ".py",
   "mimetype": "text/x-python",
   "name": "python",
   "nbconvert_exporter": "python",
   "pygments_lexer": "ipython3",
   "version": "3.7.9"
  }
 },
 "nbformat": 4,
 "nbformat_minor": 5
}
