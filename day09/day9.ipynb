{
 "cells": [
  {
   "cell_type": "code",
   "execution_count": 38,
   "id": "contained-maximum",
   "metadata": {},
   "outputs": [],
   "source": [
    "def read_input(file):\n",
    "    arr = []\n",
    "    with open(file) as f:\n",
    "        for line in f:\n",
    "            arr.append([int(x) for x in list(line.rstrip())])\n",
    "    return arr\n",
    "# read_input('input.txt')"
   ]
  },
  {
   "cell_type": "code",
   "execution_count": 37,
   "id": "packed-security",
   "metadata": {},
   "outputs": [
    {
     "name": "stdout",
     "output_type": "stream",
     "text": [
      "444\n"
     ]
    }
   ],
   "source": [
    "def day9_pt1(file):\n",
    "    arr = read_input(file)\n",
    "    lowsum = 0\n",
    "    lowcoors = []\n",
    "    for ida,a in enumerate(arr): \n",
    "        for idc,c in enumerate(a):\n",
    "            low = False\n",
    "            if ida > 0: \n",
    "                if arr[ida-1][idc] <= c: \n",
    "                    low = True\n",
    "            if ida < len(arr)-1:\n",
    "                if arr[ida+1][idc] <= c:\n",
    "                    low = True\n",
    "            if idc < len(a)-1:\n",
    "                if arr[ida][idc+1] <= c:\n",
    "                    low = True\n",
    "            if idc > 0:\n",
    "                if arr[ida][idc-1] <= c:\n",
    "                    low = True\n",
    "            if low == False:\n",
    "                lowsum += int(c) +1\n",
    "                lowcoors.append((ida,idc))\n",
    "    return lowsum, lowcoors\n",
    "\n",
    "print(day9_pt1('input.txt')[0])"
   ]
  },
  {
   "cell_type": "code",
   "execution_count": 39,
   "id": "mobile-scroll",
   "metadata": {},
   "outputs": [
    {
     "data": {
      "text/plain": [
       "1168440"
      ]
     },
     "execution_count": 39,
     "metadata": {},
     "output_type": "execute_result"
    }
   ],
   "source": [
    "def bfs(arr, start):\n",
    "    visited = set()\n",
    "    queue = [start]\n",
    "    visited.add(start)\n",
    "    size = 0\n",
    "    while len(queue) > 0:\n",
    "        size += 1\n",
    "        v = queue.pop(0)\n",
    "        y, x = v\n",
    "        candidates = []\n",
    "        if y > 0:\n",
    "            candidates.append((y-1,x))\n",
    "        if y < len(arr) - 1:\n",
    "            candidates.append((y+1,x))\n",
    "        if x > 0:\n",
    "            candidates.append((y, x-1))\n",
    "        if x < len(arr[y])-1:\n",
    "            candidates.append((y, x+1))\n",
    "        for c in candidates:\n",
    "            if c not in visited and arr[c[0]][c[1]] != 9:\n",
    "                visited.add(c)\n",
    "                queue.append(c)\n",
    "    return size\n",
    "def day9_pt2(file):\n",
    "    arr = read_input(file)\n",
    "    _, starts = day9_pt1(file)\n",
    "    basin_sizes = []\n",
    "    for s in starts:\n",
    "        basin_sizes.append(bfs(arr, s))\n",
    "    m = 1\n",
    "    for s in sorted(basin_sizes, reverse=True)[0:3]:\n",
    "        m *= s\n",
    "    return m\n",
    "\n",
    "day9_pt2('input.txt')"
   ]
  },
  {
   "cell_type": "code",
   "execution_count": null,
   "id": "institutional-mapping",
   "metadata": {},
   "outputs": [],
   "source": []
  }
 ],
 "metadata": {
  "kernelspec": {
   "display_name": "Python 3",
   "language": "python",
   "name": "python3"
  },
  "language_info": {
   "codemirror_mode": {
    "name": "ipython",
    "version": 3
   },
   "file_extension": ".py",
   "mimetype": "text/x-python",
   "name": "python",
   "nbconvert_exporter": "python",
   "pygments_lexer": "ipython3",
   "version": "3.7.9"
  }
 },
 "nbformat": 4,
 "nbformat_minor": 5
}
