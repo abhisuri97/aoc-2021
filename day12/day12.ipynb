{
 "cells": [
  {
   "cell_type": "code",
   "execution_count": 2,
   "id": "selected-spokesman",
   "metadata": {},
   "outputs": [
    {
     "data": {
      "text/plain": [
       "{'end': ['ry', 'hw', 'hz'],\n",
       " 'ry': ['end', 'hz', 'jf', 'xi'],\n",
       " 'jf': ['jb', 'IO', 'kd', 'hz', 'ry', 'WI'],\n",
       " 'jb': ['jf', 'hz', 'hw', 'LM', 'xi', 'WI'],\n",
       " 'IO': ['jf'],\n",
       " 'hz': ['jb', 'ry', 'jf', 'end'],\n",
       " 'jo': ['LM', 'start', 'WI', 'xi'],\n",
       " 'LM': ['jo', 'hw', 'start', 'jb', 'xi'],\n",
       " 'hw': ['end', 'LM', 'jb', 'xi'],\n",
       " 'WI': ['start', 'xi', 'jb', 'jo', 'jf'],\n",
       " 'start': ['WI', 'LM', 'jo'],\n",
       " 'kd': ['jf'],\n",
       " 'xi': ['WI', 'jb', 'ry', 'LM', 'hw', 'jo']}"
      ]
     },
     "execution_count": 2,
     "metadata": {},
     "output_type": "execute_result"
    }
   ],
   "source": [
    "def read_input(file):\n",
    "    graph = {}\n",
    "    with open(file) as f:\n",
    "        for line in f:\n",
    "            a, b = line.rstrip().split('-')\n",
    "            if a not in graph:\n",
    "                graph[a] = []\n",
    "            if b not in graph:\n",
    "                graph[b] = []\n",
    "            graph[a].append(b)\n",
    "            graph[b].append(a)\n",
    "    return graph\n",
    "\n",
    "read_input('input.txt')"
   ]
  },
  {
   "cell_type": "code",
   "execution_count": 19,
   "id": "backed-distance",
   "metadata": {},
   "outputs": [
    {
     "data": {
      "text/plain": [
       "5920"
      ]
     },
     "execution_count": 19,
     "metadata": {},
     "output_type": "execute_result"
    }
   ],
   "source": [
    "def day12_pt1(file):\n",
    "    graph = read_input(file)\n",
    "    queue = [['start']]\n",
    "    counter = 0\n",
    "    while len(queue) > 0:\n",
    "        path = queue.pop(0)\n",
    "        for n in graph[path[-1]]:\n",
    "            if n == 'end':\n",
    "                counter += 1\n",
    "            elif (n.islower() == False) or (n not in path):\n",
    "                queue.append(path + [n])\n",
    "    return counter\n",
    "day12_pt1('input.txt')"
   ]
  },
  {
   "cell_type": "code",
   "execution_count": 28,
   "id": "linear-czech",
   "metadata": {},
   "outputs": [
    {
     "data": {
      "text/plain": [
       "155477"
      ]
     },
     "execution_count": 28,
     "metadata": {},
     "output_type": "execute_result"
    }
   ],
   "source": [
    "def day12_pt2(file):\n",
    "    graph = read_input(file)\n",
    "    queue = [['start']]\n",
    "    counter = 0\n",
    "    while queue:\n",
    "        path = queue.pop(0)\n",
    "\n",
    "        for n in graph[path[-1]]:\n",
    "            repeat = n.islower() and n in path\n",
    "\n",
    "            if n == 'end':\n",
    "                counter += 1\n",
    "            elif n != 'start' and not (path[0] == 'rep' and repeat):\n",
    "                queue.append((['rep'] if repeat else []) + path + [n])\n",
    "    return counter\n",
    "day12_pt2('input.txt')"
   ]
  },
  {
   "cell_type": "code",
   "execution_count": null,
   "id": "continental-angle",
   "metadata": {},
   "outputs": [],
   "source": []
  }
 ],
 "metadata": {
  "kernelspec": {
   "display_name": "Python 3",
   "language": "python",
   "name": "python3"
  },
  "language_info": {
   "codemirror_mode": {
    "name": "ipython",
    "version": 3
   },
   "file_extension": ".py",
   "mimetype": "text/x-python",
   "name": "python",
   "nbconvert_exporter": "python",
   "pygments_lexer": "ipython3",
   "version": "3.7.9"
  }
 },
 "nbformat": 4,
 "nbformat_minor": 5
}
