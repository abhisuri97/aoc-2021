{
 "cells": [
  {
   "cell_type": "code",
   "execution_count": 26,
   "id": "brazilian-style",
   "metadata": {},
   "outputs": [],
   "source": [
    "def read_input(file):\n",
    "    with open(file) as f:\n",
    "        for line in f: \n",
    "            cleanln = line.rstrip().replace('target area: ','').split(', ')\n",
    "            xmin, xmax = [int(x) for x in cleanln[0].replace('x=','').split('..')]\n",
    "            ymin, ymax = [int(y) for y in cleanln[1].replace('y=','').split('..')]\n",
    "        return (xmin, xmax, ymin, ymax)\n",
    "# read_input('input.txt')"
   ]
  },
  {
   "cell_type": "code",
   "execution_count": 27,
   "id": "eastern-fields",
   "metadata": {},
   "outputs": [
    {
     "data": {
      "text/plain": [
       "10585"
      ]
     },
     "execution_count": 27,
     "metadata": {},
     "output_type": "execute_result"
    }
   ],
   "source": [
    "def day17_pt1(file):\n",
    "    xmin, xmax, ymin, ymax = read_input(file)\n",
    "    ym = float('-inf')\n",
    "    for i in range(ymin, ymax+500):\n",
    "        y = 0\n",
    "        traj = []\n",
    "        while True:\n",
    "            y += i\n",
    "            i -= 1\n",
    "            traj.append(y)\n",
    "            if ymin <= y <= ymax:\n",
    "                ym = max(ym, max(traj))\n",
    "                break\n",
    "            if y < ymin:\n",
    "                break\n",
    "    return ym\n",
    "day17_pt1('input.txt')"
   ]
  },
  {
   "cell_type": "code",
   "execution_count": 28,
   "id": "criminal-vitamin",
   "metadata": {},
   "outputs": [
    {
     "data": {
      "text/plain": [
       "5247"
      ]
     },
     "execution_count": 28,
     "metadata": {},
     "output_type": "execute_result"
    }
   ],
   "source": [
    "def day17_pt2(file): # takes a while to run...\n",
    "    xmin,xmax,ymin,ymax = read_input(file)\n",
    "    count = 0\n",
    "    for dx in range(1, xmax+500):\n",
    "        e = dx\n",
    "        for dy in range(ymin, ymax + 500):\n",
    "            x = 0\n",
    "            y = 0\n",
    "            dx = e\n",
    "            for t in range(500):\n",
    "                x += dx\n",
    "                if dx < 0: \n",
    "                    dx += 1\n",
    "                if dx > 0:\n",
    "                    dx -= 1\n",
    "                y += dy\n",
    "                dy -= 1\n",
    "                if ymin <= y <= ymax and xmin <= x <= xmax:\n",
    "                    count += 1\n",
    "                    break\n",
    "                if y < ymin:\n",
    "                    break\n",
    "    return count\n",
    "day17_pt2('input.txt')"
   ]
  },
  {
   "cell_type": "code",
   "execution_count": null,
   "id": "elegant-impact",
   "metadata": {},
   "outputs": [],
   "source": []
  },
  {
   "cell_type": "code",
   "execution_count": null,
   "id": "affected-sustainability",
   "metadata": {},
   "outputs": [],
   "source": []
  }
 ],
 "metadata": {
  "kernelspec": {
   "display_name": "Python 3",
   "language": "python",
   "name": "python3"
  },
  "language_info": {
   "codemirror_mode": {
    "name": "ipython",
    "version": 3
   },
   "file_extension": ".py",
   "mimetype": "text/x-python",
   "name": "python",
   "nbconvert_exporter": "python",
   "pygments_lexer": "ipython3",
   "version": "3.7.9"
  }
 },
 "nbformat": 4,
 "nbformat_minor": 5
}
