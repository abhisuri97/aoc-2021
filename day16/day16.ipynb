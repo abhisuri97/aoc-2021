{
 "cells": [
  {
   "cell_type": "code",
   "execution_count": 13,
   "id": "swiss-cincinnati",
   "metadata": {},
   "outputs": [],
   "source": [
    "def conv_hex(arr):\n",
    "    lookup = {\n",
    "        '0':'0000',\n",
    "        '1':'0001',\n",
    "        '2':'0010',\n",
    "        '3':'0011',\n",
    "        '4':'0100',\n",
    "        '5':'0101',\n",
    "        '6':'0110',\n",
    "        '7':'0111',\n",
    "        '8':'1000',\n",
    "        '9':'1001',\n",
    "        'A':'1010',\n",
    "        'B':'1011',\n",
    "        'C':'1100',\n",
    "        'D':'1101',\n",
    "        'E':'1110',\n",
    "        'F':'1111'\n",
    "    }\n",
    "    bigstr = ''\n",
    "    for a in arr:\n",
    "        bigstr += lookup[a]\n",
    "    return bigstr\n",
    "\n",
    "def read_input(file):\n",
    "    with open(file) as f:\n",
    "        arr = []\n",
    "        for line in f:\n",
    "            arr = list(line.rstrip())\n",
    "        return arr\n",
    "\n",
    "# read_input('input.txt')"
   ]
  },
  {
   "cell_type": "code",
   "execution_count": 37,
   "id": "bibliographic-hurricane",
   "metadata": {},
   "outputs": [],
   "source": [
    "class BitReader:\n",
    "    def __init__(self, bits):\n",
    "        self.bits = bits\n",
    "        self.vnum_sum = 0\n",
    "        self.vals = []\n",
    "        self.num_bits_read = 0\n",
    "    \n",
    "    def get_val(self, until, retr_num=True):\n",
    "        if retr_num == True:\n",
    "            val = int(self.bits[:until],2)\n",
    "        else:\n",
    "            val = self.bits[:until]\n",
    "        self.num_bits_read += until\n",
    "        self.bits = self.bits[until:]\n",
    "        return val\n",
    "    \n",
    "    def read_bits(self):\n",
    "        # first 3 bits = version\n",
    "        version = self.get_val(3)\n",
    "        self.vnum_sum += version\n",
    "        typeid = self.get_val(3)\n",
    "        if typeid == 4:\n",
    "            value = self.parse_literal()\n",
    "        else:\n",
    "            value = self.parse_operator(typeid)\n",
    "        return value\n",
    "    \n",
    "    def parse_literal(self):\n",
    "        stop = False\n",
    "        literals = ''\n",
    "        while stop == False:\n",
    "            stop = self.get_val(1) == 0\n",
    "            literals += self.get_val(4, retr_num=False)\n",
    "        return int(literals,2)\n",
    "    \n",
    "    def parse_operator(self, typeid):\n",
    "        len_type_id = self.get_val(1)\n",
    "        v = []\n",
    "        if len_type_id == 0:\n",
    "            tot_len = self.get_val(15)\n",
    "            curr_bits = self.num_bits_read\n",
    "            while tot_len + curr_bits > self.num_bits_read:\n",
    "                v.append(self.read_bits())\n",
    "        if len_type_id == 1:\n",
    "            num_subp = self.get_val(11)\n",
    "            for _ in range(num_subp):\n",
    "                v.append(self.read_bits())\n",
    "        if typeid == 0:\n",
    "            return sum(v)\n",
    "        if typeid == 1:\n",
    "            prod = 1\n",
    "            for _ in v:\n",
    "                prod *= _\n",
    "            return prod\n",
    "        if typeid == 2:\n",
    "            return min(v)\n",
    "        if typeid == 3:\n",
    "            return max(v)\n",
    "        if typeid == 5:\n",
    "            return 1 if v[0] > v[1] else 0\n",
    "        if typeid == 6:\n",
    "            return 1 if v[0] < v[1] else 0\n",
    "        if typeid == 7:\n",
    "            return 1 if v[0] == v[1] else 0\n",
    "        return v"
   ]
  },
  {
   "cell_type": "code",
   "execution_count": 38,
   "id": "rational-african",
   "metadata": {},
   "outputs": [
    {
     "data": {
      "text/plain": [
       "891"
      ]
     },
     "execution_count": 38,
     "metadata": {},
     "output_type": "execute_result"
    }
   ],
   "source": [
    "def day16_pt1(file):\n",
    "    arr = read_input(file)\n",
    "    bigstr = conv_hex(arr)\n",
    "    b = BitReader(bigstr)\n",
    "    b.read_bits()\n",
    "    return b.vnum_sum\n",
    "\n",
    "day16_pt1('input.txt')"
   ]
  },
  {
   "cell_type": "code",
   "execution_count": 39,
   "id": "every-replica",
   "metadata": {},
   "outputs": [
    {
     "data": {
      "text/plain": [
       "673042777597"
      ]
     },
     "execution_count": 39,
     "metadata": {},
     "output_type": "execute_result"
    }
   ],
   "source": [
    "def day16_pt2(file):\n",
    "    arr = read_input(file)\n",
    "    bigstr = conv_hex(arr)\n",
    "    b = BitReader(bigstr)\n",
    "    return b.read_bits()\n",
    "\n",
    "day16_pt2('input.txt')"
   ]
  },
  {
   "cell_type": "code",
   "execution_count": null,
   "id": "obvious-surfing",
   "metadata": {},
   "outputs": [],
   "source": []
  }
 ],
 "metadata": {
  "kernelspec": {
   "display_name": "Python 3",
   "language": "python",
   "name": "python3"
  },
  "language_info": {
   "codemirror_mode": {
    "name": "ipython",
    "version": 3
   },
   "file_extension": ".py",
   "mimetype": "text/x-python",
   "name": "python",
   "nbconvert_exporter": "python",
   "pygments_lexer": "ipython3",
   "version": "3.7.9"
  }
 },
 "nbformat": 4,
 "nbformat_minor": 5
}
