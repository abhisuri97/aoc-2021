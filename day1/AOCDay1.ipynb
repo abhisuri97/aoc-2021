{
 "cells": [
  {
   "cell_type": "code",
   "execution_count": 38,
   "id": "international-grove",
   "metadata": {},
   "outputs": [
    {
     "data": {
      "text/plain": [
       "1553"
      ]
     },
     "execution_count": 38,
     "metadata": {},
     "output_type": "execute_result"
    }
   ],
   "source": [
    "def process_input(file):\n",
    "    arr = []\n",
    "    with open('input.txt') as f:\n",
    "        for line in f:\n",
    "            val = int(line.rstrip())\n",
    "            arr.append(val)\n",
    "    return arr\n",
    "\n",
    "def inc_counter(arr):\n",
    "    prev = None\n",
    "    inc_count = 0\n",
    "    for a in arr:\n",
    "        if prev and a > prev:\n",
    "            inc_count += 1\n",
    "        prev = a\n",
    "    return inc_count\n",
    "\n",
    "def day1_pt1(file):\n",
    "    arr = process_input(file)\n",
    "    return inc_counter(arr)     \n",
    "           \n",
    "day1_pt1('input.csv')"
   ]
  },
  {
   "cell_type": "code",
   "execution_count": 41,
   "id": "virgin-frame",
   "metadata": {},
   "outputs": [
    {
     "data": {
      "text/plain": [
       "1597"
      ]
     },
     "execution_count": 41,
     "metadata": {},
     "output_type": "execute_result"
    }
   ],
   "source": [
    "def day1_pt2(file):\n",
    "    arr = process_input(file)\n",
    "    sums = []\n",
    "    for idx,a in enumerate(arr):\n",
    "        sums.append(sum(arr[idx:idx+3]))\n",
    "    return inc_counter(sums)\n",
    "\n",
    "\n",
    "day1_pt2('input.csv')"
   ]
  },
  {
   "cell_type": "code",
   "execution_count": null,
   "id": "exposed-bundle",
   "metadata": {},
   "outputs": [],
   "source": []
  }
 ],
 "metadata": {
  "kernelspec": {
   "display_name": "Python 3",
   "language": "python",
   "name": "python3"
  },
  "language_info": {
   "codemirror_mode": {
    "name": "ipython",
    "version": 3
   },
   "file_extension": ".py",
   "mimetype": "text/x-python",
   "name": "python",
   "nbconvert_exporter": "python",
   "pygments_lexer": "ipython3",
   "version": "3.7.9"
  }
 },
 "nbformat": 4,
 "nbformat_minor": 5
}
