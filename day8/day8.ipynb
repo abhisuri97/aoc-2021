{
 "cells": [
  {
   "cell_type": "code",
   "execution_count": 1,
   "id": "suited-mozambique",
   "metadata": {},
   "outputs": [],
   "source": [
    "def read_input(file):\n",
    "    arr = []\n",
    "    with open(file) as f:\n",
    "        for line in f:\n",
    "            ln = line.rstrip()\n",
    "            signal, output = ln.split(' | ')\n",
    "            signals = signal.split(' ')\n",
    "            outputs = output.split(' ')\n",
    "            arr.append({ 'signals': signals, 'outputs': outputs })\n",
    "    return arr"
   ]
  },
  {
   "cell_type": "code",
   "execution_count": 2,
   "id": "arabic-evaluation",
   "metadata": {},
   "outputs": [
    {
     "data": {
      "text/plain": [
       "321"
      ]
     },
     "execution_count": 2,
     "metadata": {},
     "output_type": "execute_result"
    }
   ],
   "source": [
    "def day8_pt1(file):\n",
    "    arr = read_input(file)\n",
    "    unique_counts = [2,4,3,7] # corresponds to 1,4,7,8\n",
    "    uniques = 0\n",
    "    for a in arr:\n",
    "        for o in a['outputs']:\n",
    "            if len(o) in unique_counts:\n",
    "                uniques += 1\n",
    "    return uniques\n",
    "day8_pt1('input.txt')"
   ]
  },
  {
   "cell_type": "code",
   "execution_count": 9,
   "id": "promising-regular",
   "metadata": {},
   "outputs": [
    {
     "data": {
      "text/plain": [
       "1028926"
      ]
     },
     "execution_count": 9,
     "metadata": {},
     "output_type": "execute_result"
    }
   ],
   "source": [
    "def day8_pt2(file):\n",
    "    arr = read_input(file)\n",
    "    sumv = 0\n",
    "    for a in arr:\n",
    "        chars = {}\n",
    "        five_len = []\n",
    "        six_len = []\n",
    "        segs = {\n",
    "            't': '', \n",
    "            'tl': '', 'tr': '',\n",
    "            'm': '',\n",
    "            'bl': '', 'br': '', \n",
    "            'b': ''\n",
    "        }\n",
    "        for o in a['signals']:\n",
    "            if len(o) == 2:\n",
    "                chars[1] = o\n",
    "            if len(o) == 4:\n",
    "                chars[4] = o\n",
    "            if len(o) == 3:\n",
    "                chars[7] = o\n",
    "            if len(o) == 7:\n",
    "                chars[8] = o\n",
    "            if len(o) == 5:\n",
    "                five_len.append(o)\n",
    "            if len(o) == 6:\n",
    "                six_len.append(o)\n",
    "        for x in five_len:\n",
    "            if set(chars[1]).issubset(set(x)):\n",
    "                chars[3] = x\n",
    "        for x in six_len:\n",
    "            if set(chars[4]).issubset(set(x)):\n",
    "                chars[9] = x\n",
    "        segs['t'] = set(chars[7]) - set(chars[1])\n",
    "        segs['b'] = set(chars[9]) - set(chars[4]) - segs['t']\n",
    "        segs['m'] = set(chars[3]) - set(chars[1]) - segs['t'] - segs['b']\n",
    "        chars[0] = ''.join(list(set(chars[8]) - set(segs['m'])))\n",
    "        for x in six_len:\n",
    "            if (set(x).issubset(chars[8]) and \n",
    "                (set(x) != set(chars[9])) and \n",
    "                (set(x) != set(chars[0]))):\n",
    "                chars[6] = x\n",
    "        segs['lb'] = set(chars[8]) - set(chars[9])\n",
    "        \n",
    "        chars[5] = ''.join(list(set(chars[6]) - set(segs['lb'])))\n",
    "        for x in a['signals']:\n",
    "            if (sorted(x) not in [sorted(c) for c in chars.values()]):\n",
    "                chars[2] = ''.join(list(set(x)))\n",
    "        rev_dict = {''.join(sorted(value)):key for key,value in chars.items()}\n",
    "        num = ''\n",
    "        for o in a['outputs']:\n",
    "            o = ''.join(sorted(o))\n",
    "            num += str(rev_dict[o])\n",
    "        sumv += int(num)\n",
    "    return sumv\n",
    "\n",
    "day8_pt2('input.txt')"
   ]
  },
  {
   "cell_type": "code",
   "execution_count": 52,
   "id": "built-error",
   "metadata": {},
   "outputs": [
    {
     "name": "stdout",
     "output_type": "stream",
     "text": [
      "34873\n"
     ]
    }
   ],
   "source": [
    "# BRUTE FORCE ATTEMPT...\n",
    "# from itertools import permutations\n",
    "\n",
    "# def day8_pt2_alt(file):\n",
    "#     arr = read_input(file)\n",
    "#     letters = ['a','b','c','d','e','f','g']\n",
    "#     perm = permutations(letters)\n",
    "#     segs = {\n",
    "#         'abefg': '0',\n",
    "#         'cf': '1',\n",
    "#         'acdeg': '2',\n",
    "#         'acdfg': '3',\n",
    "#         'bcdf': '4',\n",
    "#         'abdfg': '5',\n",
    "#         'abdefg': '6',\n",
    "#         'acf': '7',\n",
    "#         'abcdefg': '8',\n",
    "#         'abcdfg': '9'\n",
    "#     }\n",
    "#     sumv = 0\n",
    "#     for a in [arr[5]]:\n",
    "#         num = ''\n",
    "#         for p in perm:\n",
    "#             d = {k:letters[idx] for idx, k in enumerate(p)}\n",
    "#             works = True\n",
    "#             for o in a['outputs']:\n",
    "#                 conv_string = ''\n",
    "#                 for char in o:\n",
    "#                     conv_string += d[char]\n",
    "#                 if ''.join(sorted(conv_string)) in segs.keys():\n",
    "#                     num += segs[''.join(sorted(conv_string))]\n",
    "#                 else:\n",
    "#                     works = False\n",
    "#                     num = ''\n",
    "#             if len(num) > 0 and works == True:\n",
    "#                 sumv += int(num)\n",
    "#                 break\n",
    "#     print(sumv)\n",
    "        \n",
    "# day8_pt2_alt('inputalt.txt')"
   ]
  },
  {
   "cell_type": "code",
   "execution_count": null,
   "id": "individual-sarah",
   "metadata": {},
   "outputs": [],
   "source": []
  }
 ],
 "metadata": {
  "kernelspec": {
   "display_name": "Python 3",
   "language": "python",
   "name": "python3"
  },
  "language_info": {
   "codemirror_mode": {
    "name": "ipython",
    "version": 3
   },
   "file_extension": ".py",
   "mimetype": "text/x-python",
   "name": "python",
   "nbconvert_exporter": "python",
   "pygments_lexer": "ipython3",
   "version": "3.7.9"
  }
 },
 "nbformat": 4,
 "nbformat_minor": 5
}
