{
 "cells": [
  {
   "cell_type": "code",
   "execution_count": 98,
   "id": "consecutive-snowboard",
   "metadata": {},
   "outputs": [],
   "source": [
    "class Board:\n",
    "    def __init__(self, board_arr):\n",
    "        self.orig_board_arr = board_arr\n",
    "        self.rep_board = board_arr\n",
    "        self.last_num = None\n",
    "        \n",
    "    def __str__(self):\n",
    "        strr = \"Orig Board:\\n\"\n",
    "        for x in self.orig_board_arr:\n",
    "            strr += ' '.join(x)\n",
    "            strr += '\\n'\n",
    "        strr += \"Marked:\\n\"\n",
    "        for x in self.rep_board:\n",
    "            strr += ' '.join(x)\n",
    "            strr += '\\n'\n",
    "        return strr\n",
    "        \n",
    "    def mark(self, num):\n",
    "        self.last_num = num\n",
    "        for x in range(len(self.orig_board_arr)):\n",
    "            for y in range(len(self.orig_board_arr[x])):\n",
    "                if self.orig_board_arr[x][y] == num:\n",
    "                    self.rep_board[x][y] = 'X'\n",
    "    \n",
    "    def check_board(self):\n",
    "        # check rows\n",
    "        for x in range(len(self.orig_board_arr)):\n",
    "            if all([v == 'X' for v in self.rep_board[x]]):\n",
    "                return self.calc_score()\n",
    "        # check cols\n",
    "        for y in range(len(self.orig_board_arr[0])):\n",
    "            col = [x[y] for x in self.rep_board]\n",
    "            if all([v == 'X' for v in col]):\n",
    "                return self.calc_score()\n",
    "        return False\n",
    "    \n",
    "    def calc_score(self):\n",
    "        score = 0\n",
    "        for x in range(len(self.orig_board_arr)):\n",
    "            for y in range(len(self.orig_board_arr[x])):\n",
    "                if self.rep_board[x][y] != 'X':\n",
    "                    score += int(self.rep_board[x][y])\n",
    "        return score * int(self.last_num)"
   ]
  },
  {
   "cell_type": "code",
   "execution_count": 99,
   "id": "hungarian-rwanda",
   "metadata": {},
   "outputs": [],
   "source": [
    "def clean_line(line):\n",
    "    string = ''\n",
    "    arr = []\n",
    "    for idx,a in enumerate(line):\n",
    "        string += a\n",
    "        if (idx+1) % 3 == 0:\n",
    "            arr.append(string.strip())\n",
    "            string = ''\n",
    "    arr.append(string.strip())\n",
    "    return arr\n",
    "\n",
    "def get_input(file):\n",
    "    nums = []\n",
    "    boards = []\n",
    "    with open(file) as f:\n",
    "        count = 0\n",
    "        curr_card = []\n",
    "        for line in f:\n",
    "            if count == 0:\n",
    "                nums = line.rstrip().split(',')\n",
    "            else:\n",
    "                line = clean_line(line.rstrip())\n",
    "                if len(curr_card) == 5:\n",
    "                    boards.append(Board(curr_card))\n",
    "                    curr_card = []\n",
    "                if len(line) == 5:\n",
    "                    curr_card.append(line)\n",
    "            count += 1\n",
    "        boards.append(Board(curr_card))\n",
    "    return (nums, boards)"
   ]
  },
  {
   "cell_type": "code",
   "execution_count": 100,
   "id": "developmental-journalism",
   "metadata": {},
   "outputs": [
    {
     "name": "stdout",
     "output_type": "stream",
     "text": [
      "50008\n"
     ]
    }
   ],
   "source": [
    "def day4_pt1(file):\n",
    "    nums, boards = get_input(file)\n",
    "    for n in nums:\n",
    "        for b in boards:\n",
    "            b.mark(n)\n",
    "            w = b.check_board()\n",
    "            if w != False:\n",
    "                return w\n",
    "print(day4_pt1('input.txt'))"
   ]
  },
  {
   "cell_type": "code",
   "execution_count": 101,
   "id": "baking-reset",
   "metadata": {},
   "outputs": [
    {
     "name": "stdout",
     "output_type": "stream",
     "text": [
      "17408\n"
     ]
    }
   ],
   "source": [
    "def day4_pt2(file):\n",
    "    nums, boards = get_input(file)\n",
    "    win_order = []\n",
    "    rm_idx = []\n",
    "    \n",
    "    for n in nums:\n",
    "        for idx, b in enumerate(boards):\n",
    "            if idx not in rm_idx:\n",
    "                b.mark(n)\n",
    "                w = b.check_board()\n",
    "                if w != False:\n",
    "                    win_order.append(w)\n",
    "                    rm_idx.append(idx)\n",
    "    return win_order[-1]\n",
    "print(day4_pt2('input.txt'))"
   ]
  },
  {
   "cell_type": "code",
   "execution_count": null,
   "id": "searching-comedy",
   "metadata": {},
   "outputs": [],
   "source": []
  }
 ],
 "metadata": {
  "kernelspec": {
   "display_name": "Python 3",
   "language": "python",
   "name": "python3"
  },
  "language_info": {
   "codemirror_mode": {
    "name": "ipython",
    "version": 3
   },
   "file_extension": ".py",
   "mimetype": "text/x-python",
   "name": "python",
   "nbconvert_exporter": "python",
   "pygments_lexer": "ipython3",
   "version": "3.7.9"
  }
 },
 "nbformat": 4,
 "nbformat_minor": 5
}
